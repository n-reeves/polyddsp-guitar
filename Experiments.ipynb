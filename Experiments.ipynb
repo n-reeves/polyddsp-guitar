{
 "cells": [
  {
   "cell_type": "markdown",
   "id": "931c3a2b-e968-4134-a6d7-5639b918c9fd",
   "metadata": {
    "tags": []
   },
   "source": [
    "# Imports"
   ]
  },
  {
   "cell_type": "code",
   "execution_count": null,
   "id": "9dd6f273-896d-49c0-a68d-63b98ecd3fe2",
   "metadata": {
    "tags": []
   },
   "outputs": [],
   "source": [
    "#pip install basic-pitch pretty_midi frechet_audio_distance"
   ]
  },
  {
   "cell_type": "code",
   "execution_count": null,
   "id": "f3764faf-293b-4133-a815-59300eca1bab",
   "metadata": {
    "tags": []
   },
   "outputs": [],
   "source": [
    "import sys\n",
    "argv_backup = sys.argv\n",
    "sys.argv = ['']\n",
    "from frechet_audio_distance import FrechetAudioDistance \n",
    "from gtt.eval import create_eval_baseline_dir, test_model\n",
    "sys.argv  = argv_backup"
   ]
  },
  {
   "cell_type": "code",
   "execution_count": null,
   "id": "b7bee419-556d-4d76-a759-dfe322096c3b",
   "metadata": {
    "tags": []
   },
   "outputs": [],
   "source": [
    "import time\n",
    "import os\n",
    "import torch\n",
    "import torchaudio\n",
    "import numpy as np\n",
    "from torch.utils.data import DataLoader\n",
    "\n",
    "from gtt.dataloader import GttDataset\n",
    "from gtt.model import GttNet\n",
    "from gtt.utilities.utils import train_test_split, get_mean_std_loudness\n",
    "from gtt.train import train_epoch, train_loop\n",
    "from gtt.eval import mfcc_fro_distance, loudness_l2_distance\n",
    "from PolyDDSP.modules.losses import SpectralLoss"
   ]
  },
  {
   "cell_type": "code",
   "execution_count": null,
   "id": "cd5fa5a5-217b-4c58-a3bb-35ad5dda2931",
   "metadata": {
    "tags": []
   },
   "outputs": [],
   "source": [
    "device = torch.device('cuda:0' if torch.cuda.is_available() else 'cpu')"
   ]
  },
  {
   "cell_type": "markdown",
   "id": "f2fc1a35-501a-4a7f-94fc-83de6e929992",
   "metadata": {
    "jp-MarkdownHeadingCollapsed": true,
    "tags": []
   },
   "source": [
    "# Construct Baseline DIRs for FAD comparison"
   ]
  },
  {
   "cell_type": "markdown",
   "id": "1d0f1714-5a2c-4ace-bca6-a8e70cbc7401",
   "metadata": {
    "jp-MarkdownHeadingCollapsed": true,
    "tags": []
   },
   "source": [
    "## GuitarSet"
   ]
  },
  {
   "cell_type": "code",
   "execution_count": null,
   "id": "31185e1f-82ad-4486-bc38-3ecc8340f127",
   "metadata": {
    "tags": []
   },
   "outputs": [],
   "source": [
    "source_dir = 'Data/GuitarSet/audio_pickup'\n",
    "target_dir = 'Data/GuitarSet/eval_fad'\n",
    "\n",
    "split = train_test_split(source_dir, train_pct=1, valid_pct=0)\n",
    "\n",
    "files = split['train'] \n",
    "\n",
    "file_ds = GttDataset(audio_dir = source_dir,\n",
    "                             midi_dir = 'Data/GuitarSet/hr_labels',\n",
    "                             file_list = files, \n",
    "                             segment_length_seconds=4,\n",
    "                             max_n_pitch=30,\n",
    "                             random_crop=False,\n",
    "                             device='cpu')\n",
    "\n",
    "file_dl = DataLoader(file_ds, 1, shuffle=False)\n",
    "\n",
    "file_count = 0\n",
    "\n",
    "for batch in file_dl:\n",
    "    fname = '{}.wav'.format(file_count)\n",
    "    fpath = os.path.join(target_dir,fname)\n",
    "    audio = batch['audio']\n",
    "    \n",
    "    torchaudio.save(fpath, audio, 22050)\n",
    "    \n",
    "    file_count += 1"
   ]
  },
  {
   "cell_type": "markdown",
   "id": "c671b947-0ab3-4d37-81a6-8007641040db",
   "metadata": {
    "jp-MarkdownHeadingCollapsed": true,
    "tags": []
   },
   "source": [
    "## EGDB"
   ]
  },
  {
   "cell_type": "code",
   "execution_count": null,
   "id": "cab8a14b-b38f-405d-a9d3-c24c4b5bc6c2",
   "metadata": {
    "tags": []
   },
   "outputs": [],
   "source": [
    "source_dir = 'Data/EGDB/audio'\n",
    "target_dir = 'Data/EGDB/eval_fad'\n",
    "\n",
    "split = train_test_split(source_dir, train_pct=1, valid_pct=0)\n",
    "\n",
    "files = split['train'] \n",
    "\n",
    "file_ds = GttDataset(audio_dir = source_dir,\n",
    "                             midi_dir = '',\n",
    "                             file_list = files, \n",
    "                             segment_length_seconds=4,\n",
    "                             max_n_pitch=30,\n",
    "                             random_crop=False,\n",
    "                             device='cpu')\n",
    "\n",
    "file_dl = DataLoader(file_ds, 1, shuffle=False)\n",
    "\n",
    "file_count = 0\n",
    "\n",
    "for batch in file_dl:\n",
    "    fname = '{}.wav'.format(file_count)\n",
    "    fpath = os.path.join(target_dir,fname)\n",
    "    audio = batch['audio']\n",
    "    \n",
    "    torchaudio.save(fpath, audio, 22050)\n",
    "    \n",
    "    file_count += 1"
   ]
  },
  {
   "cell_type": "markdown",
   "id": "8135ac6d-aef9-4809-a872-6f64bfe21311",
   "metadata": {
    "jp-MarkdownHeadingCollapsed": true,
    "tags": []
   },
   "source": [
    "## SynthTab Acoustic"
   ]
  },
  {
   "cell_type": "code",
   "execution_count": null,
   "id": "d4d79bae-1862-4e84-886a-d78f836169a9",
   "metadata": {
    "tags": []
   },
   "outputs": [],
   "source": [
    "source_dir = 'Data/synthtab_acoustic/audio'\n",
    "target_dir = 'Data/synthtab_acoustic/eval_fad'\n",
    "\n",
    "split = train_test_split(source_dir, train_pct=1, valid_pct=0)\n",
    "\n",
    "files = split['train'] \n",
    "\n",
    "file_ds = GttDataset(audio_dir = source_dir,\n",
    "                             midi_dir = '',\n",
    "                             file_list = files, \n",
    "                             segment_length_seconds=4,\n",
    "                             max_n_pitch=30,\n",
    "                             random_crop=False,\n",
    "                             device='cpu')\n",
    "\n",
    "file_dl = DataLoader(file_ds, 1, shuffle=False)\n",
    "\n",
    "file_count = 0\n",
    "\n",
    "for batch in file_dl:\n",
    "    fname = '{}.wav'.format(file_count)\n",
    "    fpath = os.path.join(target_dir,fname)\n",
    "    audio = batch['audio']\n",
    "    \n",
    "    torchaudio.save(fpath, audio, 22050)\n",
    "    \n",
    "    file_count += 1"
   ]
  },
  {
   "cell_type": "markdown",
   "id": "da6c1b25-5e8f-4983-a1cd-50f84edf8266",
   "metadata": {
    "jp-MarkdownHeadingCollapsed": true,
    "tags": []
   },
   "source": [
    "## SynthTab Electric"
   ]
  },
  {
   "cell_type": "code",
   "execution_count": null,
   "id": "cf3cee4d-26e9-4bad-a7f2-5c873849b462",
   "metadata": {
    "tags": []
   },
   "outputs": [],
   "source": [
    "source_dir = 'Data/synthtab_electric/audio'\n",
    "target_dir = 'Data/synthtab_electric/eval_fad'\n",
    "\n",
    "split = train_test_split(source_dir, train_pct=1, valid_pct=0)\n",
    "\n",
    "files = split['train'] \n",
    "\n",
    "file_ds = GttDataset(audio_dir = source_dir,\n",
    "                             midi_dir = '',\n",
    "                             file_list = files, \n",
    "                             segment_length_seconds=4,\n",
    "                             max_n_pitch=30,\n",
    "                             random_crop=False,\n",
    "                             device='cpu')\n",
    "\n",
    "file_dl = DataLoader(file_ds, 1, shuffle=False)\n",
    "\n",
    "file_count = 0\n",
    "\n",
    "for batch in file_dl:\n",
    "    fname = '{}.wav'.format(file_count)\n",
    "    fpath = os.path.join(target_dir,fname)\n",
    "    audio = batch['audio']\n",
    "    \n",
    "    torchaudio.save(fpath, audio, 22050)\n",
    "    \n",
    "    file_count += 1"
   ]
  },
  {
   "cell_type": "markdown",
   "id": "f52d98c6-0a23-4d34-9603-b41409c5eb57",
   "metadata": {
    "tags": []
   },
   "source": [
    "# Guitarset HRG"
   ]
  },
  {
   "cell_type": "markdown",
   "id": "36ff460e-b526-47dc-bc78-75554e31dc40",
   "metadata": {
    "tags": []
   },
   "source": [
    "## Set Up"
   ]
  },
  {
   "cell_type": "code",
   "execution_count": null,
   "id": "97455fdc-e04e-42da-9c7a-36d9f15308df",
   "metadata": {
    "tags": []
   },
   "outputs": [],
   "source": [
    "gs_dir = 'Data/GuitarSet/audio_pickup'\n",
    "\n",
    "split = train_test_split(gs_dir, train_pct=.8, valid_pct=.1)\n",
    "\n",
    "train_files = split['train']\n",
    "valid_files = split['valid']\n",
    "test_files = split['test']\n",
    "\n",
    "loudness_metrics = get_mean_std_loudness(gs_dir, train_files)\n",
    "\n",
    "\n",
    "gs_hrg_train_ds = GttDataset(audio_dir = gs_dir,\n",
    "                             midi_dir = 'Data/GuitarSet/hr_labels',\n",
    "                             file_list = train_files, \n",
    "                             segment_length_seconds=4,\n",
    "                             max_n_pitch=30,\n",
    "                             loud_mean = loudness_metrics['mean'],\n",
    "                             loud_std = loudness_metrics['std'],\n",
    "                             device=device)\n",
    "\n",
    "gs_hrg_valid_ds = GttDataset(audio_dir = gs_dir,\n",
    "                             midi_dir = 'Data/GuitarSet/hr_labels',\n",
    "                             file_list = valid_files, \n",
    "                             segment_length_seconds=4,\n",
    "                             max_n_pitch=30,\n",
    "                             random_crop=False,\n",
    "                             permute_pitch = False,\n",
    "                             loud_mean = loudness_metrics['mean'],\n",
    "                             loud_std = loudness_metrics['std'],\n",
    "                             device=device)\n",
    "\n",
    "gs_hrg_test_ds = GttDataset(audio_dir = gs_dir,\n",
    "                             midi_dir = 'Data/GuitarSet/hr_labels',\n",
    "                             file_list = test_files, \n",
    "                             segment_length_seconds=4,\n",
    "                             max_n_pitch=30,\n",
    "                             random_crop=False,\n",
    "                             permute_pitch = False,\n",
    "                             loud_mean = loudness_metrics['mean'],\n",
    "                             loud_std = loudness_metrics['std'],\n",
    "                             device=device)\n",
    "\n",
    "gs_hrg_train_dl = DataLoader(gs_hrg_train_ds, 3, shuffle=True)\n",
    "gs_hrg_valid_dl = DataLoader(gs_hrg_valid_ds, 3, shuffle=False)\n",
    "gs_hrg_test_dl = DataLoader(gs_hrg_test_ds, 3, shuffle=False)\n",
    "\n",
    "\n",
    "gs_hrg_ckpt_dir = 'model_checkpoints/guitarset_hrg'\n",
    "\n",
    "gs_hrg_model = GttNet(device=device,\n",
    "                      hop_length=128,\n",
    "                      timbre_enc_size = 15,\n",
    "                      use_timbre_encoder=True,\n",
    "                      use_amp_latent=False,\n",
    "                      gru_cat=False,\n",
    "                      use_reverb=False).to(device)"
   ]
  },
  {
   "cell_type": "markdown",
   "id": "fcbbcd89-002e-4df5-ba56-e462d84bc727",
   "metadata": {
    "jp-MarkdownHeadingCollapsed": true,
    "tags": []
   },
   "source": [
    "## Train"
   ]
  },
  {
   "cell_type": "code",
   "execution_count": null,
   "id": "5d548d2f-fe18-47ec-88a7-904f6f045852",
   "metadata": {
    "tags": []
   },
   "outputs": [],
   "source": [
    "start_time = time.time()\n",
    "\n",
    "train_loop(model = gs_hrg_model, \n",
    "            train_loader = gs_hrg_train_dl, \n",
    "            valid_loader = gs_hrg_valid_dl, \n",
    "            epochs=40200,\n",
    "            valid_freq=10,\n",
    "            ckpt_dir=gs_hrg_ckpt_dir,\n",
    "            loud_epoch_freq=10,\n",
    "            train_hours=8,\n",
    "            loud_batch=False)\n",
    "\n",
    "end_time = time.time()\n",
    "total_time = end_time - start_time\n",
    "\n",
    "print('Run Time: {}'.format(total_time))"
   ]
  },
  {
   "cell_type": "markdown",
   "id": "ee4fdf5f-8e43-4c18-831c-938bf6bcd1bf",
   "metadata": {
    "tags": []
   },
   "source": [
    "## Timbre Transfer Evaluate"
   ]
  },
  {
   "cell_type": "code",
   "execution_count": null,
   "id": "15172ebc-4479-4b13-98d5-60112860c85a",
   "metadata": {
    "tags": []
   },
   "outputs": [],
   "source": [
    "#load model\n",
    "ckpt_path = 'model_checkpoints/guitarset_hrg/model_epoch_final_config2.pt'\n",
    "\n",
    "gs_hrg_model = GttNet(device=device,\n",
    "                      input_length_seconds=4,\n",
    "                      hop_length=128,\n",
    "                      harmonic_n_controls=101,\n",
    "                      gru_features=512,\n",
    "                      noise_initial_bias=-5.0,\n",
    "                      mlp_blocks=3,\n",
    "                      timbre_enc_size = 15,\n",
    "                      use_timbre_encoder=True,\n",
    "                      use_amp_latent=False,\n",
    "                      gru_cat=False,\n",
    "                      use_reverb=False).to(device)\n",
    "\n",
    "gs_hrg_model.load_state_dict(torch.load(ckpt_path))\n",
    "\n",
    "gs_dir = 'Data/GuitarSet/audio_pickup'\n",
    "\n",
    "split = train_test_split(gs_dir, train_pct=.8, valid_pct=.1)\n",
    "\n",
    "train_files = split['train']\n",
    "valid_files = split['valid']\n",
    "test_files = split['test']\n",
    "\n",
    "loudness_metrics = get_mean_std_loudness(gs_dir, train_files)\n",
    "\n",
    "gs_hrg_test_ds = GttDataset(audio_dir = gs_dir,\n",
    "                             midi_dir = 'Data/GuitarSet/hr_labels',\n",
    "                             file_list = test_files, \n",
    "                             segment_length_seconds=4,\n",
    "                             max_n_pitch=30,\n",
    "                             random_crop=False,\n",
    "                             permute_pitch=False,\n",
    "                             loud_mean = loudness_metrics['mean'],\n",
    "                             loud_std = loudness_metrics['std'],\n",
    "                             device=device)\n",
    "\n",
    "gs_hrg_test_dl = DataLoader(gs_hrg_test_ds, 3, shuffle=False)"
   ]
  },
  {
   "cell_type": "markdown",
   "id": "3c588c76-2d95-4edd-a7e1-5d8bf6c8ad52",
   "metadata": {
    "tags": []
   },
   "source": [
    "### Reconstruction Metrics"
   ]
  },
  {
   "cell_type": "markdown",
   "id": "dd576645-6c0a-4ebd-aaa4-0e4b762f6359",
   "metadata": {},
   "source": [
    "Mean MFCC Distance: 2166.895033094618\n",
    "\n",
    "Mean loudness l2 Distance: 67.18081707424588\n",
    "\n",
    "Mean MS spectral loss: 0.27293260395526886\n"
   ]
  },
  {
   "cell_type": "code",
   "execution_count": null,
   "id": "b57dfb84-eff6-4431-8e41-01788a1737fa",
   "metadata": {
    "tags": []
   },
   "outputs": [],
   "source": [
    "test_len = len(gs_hrg_test_ds)\n",
    "\n",
    "mfcc_dist = 0\n",
    "loudness_l2 = 0\n",
    "msstft = 0\n",
    "\n",
    "gs_hrg_model.eval()\n",
    "msstft_calc = SpectralLoss()\n",
    "\n",
    "for batch in gs_hrg_test_dl:\n",
    "    out_audio = gs_hrg_model(batch)\n",
    "    \n",
    "    mfcc_dist += mfcc_fro_distance(batch['audio'],out_audio, device=device)\n",
    "    loudness_l2 += loudness_l2_distance(batch['audio'], out_audio, device=device)\n",
    "    msstft += msstft_calc(out_audio,batch['audio']).item()\n",
    "\n",
    "    \n",
    "print('Mean MFCC Distance: {}'.format(mfcc_dist/test_len))\n",
    "print('Mean loudness l2 Distance: {}'.format(loudness_l2/test_len))\n",
    "print('Mean MS spectral loss: {}'.format(msstft/test_len))"
   ]
  },
  {
   "cell_type": "markdown",
   "id": "f64ab8e8-0774-47fa-a6c6-2d161efa961b",
   "metadata": {
    "tags": []
   },
   "source": [
    "### EGDB"
   ]
  },
  {
   "cell_type": "code",
   "execution_count": null,
   "id": "2a18af14-a91c-44d1-9697-bdcdaa093bb4",
   "metadata": {
    "tags": []
   },
   "outputs": [],
   "source": [
    "gs_baseline_dir = 'Data/GuitarSet/eval_fad'\n",
    "\n",
    "egdb_dir = 'Data/EGDB/audio'\n",
    "egdb_test_dir = 'Data/EGDB/test'\n",
    "\n",
    "split = train_test_split(egdb_dir, train_pct=.8, valid_pct=.1)\n",
    "\n",
    "test_files = split['test']\n",
    "\n",
    "egdb_test_ds = GttDataset(audio_dir = egdb_dir,\n",
    "                          midi_dir = '',\n",
    "                          file_list = test_files, \n",
    "                          trim_duration = 3,\n",
    "                          segment_length_seconds=4,\n",
    "                          max_n_pitch=30,\n",
    "                          random_crop=False,\n",
    "                          permute_pitch=False,\n",
    "                          loud_mean = loudness_metrics['mean'],\n",
    "                          loud_std = loudness_metrics['std'], \n",
    "                          device=device)\n",
    "\n",
    "egdb_test_dl = DataLoader(egdb_test_ds, 3, shuffle=False)\n",
    "\n",
    "\n",
    "test_model(model = gs_hrg_model, \n",
    "           test_loader = egdb_test_dl, \n",
    "           calc_fad=True, \n",
    "           baseline_dir=gs_baseline_dir,\n",
    "           test_dir=egdb_test_dir)"
   ]
  },
  {
   "cell_type": "markdown",
   "id": "65eeb5aa-7635-4334-966d-478ef8b51a2a",
   "metadata": {},
   "source": [
    "### Synthtab acoustic"
   ]
  },
  {
   "cell_type": "code",
   "execution_count": null,
   "id": "0315668d-5077-4d92-a18d-70dbce13a867",
   "metadata": {},
   "outputs": [],
   "source": [
    "gs_baseline_dir = 'Data/GuitarSet/eval_fad'\n",
    "\n",
    "st_dir = 'Data/synthtab_acoustic/audio'\n",
    "st_test_dir = 'Data/synthtab_acoustic/test'\n",
    "\n",
    "split = train_test_split(st_dir, train_pct=.8, valid_pct=.1)\n",
    "\n",
    "test_files = split['test']\n",
    "\n",
    "st_test_ds = GttDataset(audio_dir = st_dir,\n",
    "                          midi_dir = '',\n",
    "                          file_list = test_files, \n",
    "                          trim_duration = 15,\n",
    "                          segment_length_seconds=4,\n",
    "                          max_n_pitch=30,\n",
    "                          random_crop=False,\n",
    "                        permute_pitch=False,\n",
    "                          loud_mean = loudness_metrics['mean'],\n",
    "                          loud_std = loudness_metrics['std'],\n",
    "                          device=device)\n",
    "\n",
    "st_test_dl = DataLoader(st_test_ds, 3, shuffle=True)\n",
    "\n",
    "\n",
    "test_model(model = gs_hrg_model, \n",
    "           test_loader = st_test_dl, \n",
    "           calc_fad=True, \n",
    "           baseline_dir=gs_baseline_dir,\n",
    "           test_dir=st_test_dir)"
   ]
  },
  {
   "cell_type": "markdown",
   "id": "b9e78b1f-951f-419d-bfd0-ad34515292cc",
   "metadata": {
    "tags": []
   },
   "source": [
    "# Guitarset BP"
   ]
  },
  {
   "cell_type": "markdown",
   "id": "57ce93b3-eb08-49dc-a671-b5e6b38900d7",
   "metadata": {
    "tags": []
   },
   "source": [
    "## Set up"
   ]
  },
  {
   "cell_type": "code",
   "execution_count": null,
   "id": "5a5872b8-e6f9-46b7-a1cd-6a5481268ed7",
   "metadata": {
    "tags": []
   },
   "outputs": [],
   "source": [
    "gs_dir = 'Data/GuitarSet/audio_pickup'\n",
    "\n",
    "split = train_test_split(gs_dir, train_pct=.8, valid_pct=.1)\n",
    "\n",
    "train_files = split['train']\n",
    "valid_files = split['valid']\n",
    "test_files = split['test']\n",
    "\n",
    "loudness_metrics = get_mean_std_loudness(gs_dir, train_files)\n",
    "\n",
    "gs_bp_train_ds = GttDataset(audio_dir = gs_dir,\n",
    "                             midi_dir = '',\n",
    "                             file_list = train_files, \n",
    "                             segment_length_seconds=4,\n",
    "                             max_n_pitch=30,\n",
    "                             loud_mean = loudness_metrics['mean'],\n",
    "                             loud_std = loudness_metrics['std'],\n",
    "                             device=device)\n",
    "\n",
    "gs_bp_valid_ds = GttDataset(audio_dir = gs_dir,\n",
    "                             midi_dir = '',\n",
    "                             file_list = valid_files, \n",
    "                             segment_length_seconds=4,\n",
    "                             max_n_pitch=30,\n",
    "                             random_crop=False,\n",
    "                             permute_pitch=False,\n",
    "                             loud_mean = loudness_metrics['mean'],\n",
    "                             loud_std = loudness_metrics['std'],\n",
    "                             device=device)\n",
    "\n",
    "gs_bp_test_ds = GttDataset(audio_dir = gs_dir,\n",
    "                             midi_dir = '',\n",
    "                             file_list = test_files, \n",
    "                             segment_length_seconds=4,\n",
    "                             max_n_pitch=30,\n",
    "                             random_crop=False,\n",
    "                             permute_pitch=False,\n",
    "                             loud_mean = loudness_metrics['mean'],\n",
    "                             loud_std = loudness_metrics['std'],\n",
    "                             device=device)\n",
    "\n",
    "gs_bp_train_dl = DataLoader(gs_bp_train_ds, 3, shuffle=True)\n",
    "gs_bp_valid_dl = DataLoader(gs_bp_valid_ds, 3, shuffle=False)\n",
    "gs_bp_test_dl = DataLoader(gs_bp_test_ds, 3, shuffle=False)\n",
    "\n",
    "\n",
    "gs_bp_ckpt_dir = 'model_checkpoints/guitarset_bp'\n",
    "\n",
    "gs_bp_model = GttNet(device=device,\n",
    "                      input_length_seconds=4,\n",
    "                      hop_length=128,\n",
    "                      harmonic_n_controls=101,\n",
    "                      gru_features=512,\n",
    "                      noise_initial_bias=-5.0,\n",
    "                      mlp_blocks=3,\n",
    "                      gru_cat=False,\n",
    "                      timbre_enc_size = 15,\n",
    "                      use_timbre_encoder=True,\n",
    "                      use_amp_latent=True,\n",
    "                      trainable_velocity=False,\n",
    "                      use_reverb=False).to(device)"
   ]
  },
  {
   "cell_type": "markdown",
   "id": "3a2b732c-3984-4a3d-86e1-0addf621e72f",
   "metadata": {
    "jp-MarkdownHeadingCollapsed": true,
    "tags": []
   },
   "source": [
    "## Train"
   ]
  },
  {
   "cell_type": "markdown",
   "id": "504544cf-163d-47a7-b6df-258b8e5bfafb",
   "metadata": {},
   "source": [
    "mean MFCC distance scores of different configurations\n",
    "\n",
    "Configuration 1:2526.36\n",
    "\n",
    "Configuration 2: 2297"
   ]
  },
  {
   "cell_type": "code",
   "execution_count": null,
   "id": "20968ac1-d89f-40f3-8d85-ae87ba9babf8",
   "metadata": {
    "tags": []
   },
   "outputs": [],
   "source": [
    "start_time = time.time()\n",
    "\n",
    "train_loop(model = gs_bp_model, \n",
    "            train_loader = gs_bp_train_dl, \n",
    "            valid_loader = gs_bp_valid_dl, \n",
    "            epochs=4000,\n",
    "            valid_freq=10,\n",
    "            loud_epoch_freq=10,\n",
    "            train_hours=8,\n",
    "            ckpt_dir=gs_bp_ckpt_dir,\n",
    "            loud_batch=False)\n",
    "\n",
    "end_time = time.time()\n",
    "total_time = end_time - start_time\n",
    "\n",
    "print('Run Time: {}'.format(total_time))"
   ]
  },
  {
   "cell_type": "markdown",
   "id": "809ca804-f9d0-46e2-b019-0bb087ae1482",
   "metadata": {
    "tags": []
   },
   "source": [
    "## Timbre Transfer Evaluate"
   ]
  },
  {
   "cell_type": "code",
   "execution_count": null,
   "id": "77f1e192-224c-4cec-a692-9d6cdaea36e2",
   "metadata": {
    "tags": []
   },
   "outputs": [],
   "source": [
    "#load model\n",
    "ckpt_path = 'model_checkpoints/guitarset_bp/model_epoch_final_config2.pt'\n",
    "\n",
    "gs_bp_model = GttNet(device=device,\n",
    "                      input_length_seconds=4,\n",
    "                      hop_length=128,\n",
    "                      harmonic_n_controls=101,\n",
    "                      gru_features=512,\n",
    "                      noise_initial_bias=-5.0,\n",
    "                      mlp_blocks=3,\n",
    "                      timbre_enc_size = 15,\n",
    "                      use_timbre_encoder=True,\n",
    "                      use_amp_latent=True,\n",
    "                      trainable_velocity=True,\n",
    "                      gru_cat=False,\n",
    "                      use_reverb=False).to(device)\n",
    "\n",
    "gs_bp_model.load_state_dict(torch.load(ckpt_path))\n",
    "\n",
    "gs_dir = 'Data/GuitarSet/audio_pickup'\n",
    "\n",
    "split = train_test_split(gs_dir, train_pct=.8, valid_pct=.1)\n",
    "\n",
    "train_files = split['train']\n",
    "test_files = split['test']\n",
    "\n",
    "loudness_metrics = get_mean_std_loudness(gs_dir, train_files)\n",
    "\n",
    "gs_bp_test_ds = GttDataset(audio_dir = gs_dir,\n",
    "                             midi_dir = '',\n",
    "                             file_list = test_files, \n",
    "                             segment_length_seconds=4,\n",
    "                             max_n_pitch=30,\n",
    "                             random_crop=False,\n",
    "                             permute_pitch=False,\n",
    "                             loud_mean = loudness_metrics['mean'],\n",
    "                             loud_std = loudness_metrics['std'],\n",
    "                             device=device)\n",
    "\n",
    "gs_bp_test_dl = DataLoader(gs_bp_test_ds, 3, shuffle=False)"
   ]
  },
  {
   "cell_type": "markdown",
   "id": "7ecf2a71-10f9-4c72-8abe-0937cba15dae",
   "metadata": {
    "tags": []
   },
   "source": [
    "### Reconstruction Metrics"
   ]
  },
  {
   "cell_type": "markdown",
   "id": "71a9c5ed-ce98-490b-bb55-1529b26bcbd4",
   "metadata": {},
   "source": [
    "Mean MFCC Distance: 2367.958062065972\n",
    "\n",
    "Mean loudness l2 Distance: 92.15786955091689\n",
    "\n",
    "Mean MS spectral loss: 0.29661866029103595"
   ]
  },
  {
   "cell_type": "code",
   "execution_count": null,
   "id": "3bf72814-9cb8-4cb4-91d9-6834e3f6e42a",
   "metadata": {},
   "outputs": [],
   "source": [
    "test_len = len(gs_bp_test_ds)\n",
    "\n",
    "mfcc_dist = 0\n",
    "loudness_l2 = 0\n",
    "msstft = 0\n",
    "\n",
    "gs_bp_model.eval()\n",
    "msstft_calc = SpectralLoss()\n",
    "\n",
    "for batch in gs_bp_test_dl:\n",
    "    out_audio = gs_bp_model(batch)\n",
    "    \n",
    "    mfcc_dist += mfcc_fro_distance(batch['audio'],out_audio, device=device)\n",
    "    loudness_l2 += loudness_l2_distance(batch['audio'], out_audio, device=device)\n",
    "    msstft += msstft_calc(out_audio,batch['audio']).item()\n",
    "\n",
    "    \n",
    "print('Mean MFCC Distance: {}'.format(mfcc_dist/test_len))\n",
    "print('Mean loudness l2 Distance: {}'.format(loudness_l2/test_len))\n",
    "print('Mean MS spectral loss: {}'.format(msstft/test_len))"
   ]
  },
  {
   "cell_type": "markdown",
   "id": "f01cf74d-aa73-4c14-9676-7b176fc3e227",
   "metadata": {
    "tags": []
   },
   "source": [
    "### EGDB"
   ]
  },
  {
   "cell_type": "markdown",
   "id": "dacaee8b-3966-471f-9469-48a15536b679",
   "metadata": {},
   "source": [
    "FAD: "
   ]
  },
  {
   "cell_type": "code",
   "execution_count": null,
   "id": "93dec99f-c473-4b54-8561-1f229f47481b",
   "metadata": {
    "tags": []
   },
   "outputs": [],
   "source": [
    "gs_baseline_dir = 'Data/GuitarSet/eval_fad'\n",
    "\n",
    "egdb_dir = 'Data/EGDB/audio'\n",
    "egdb_test_dir = 'Data/EGDB/test'\n",
    "\n",
    "split = train_test_split(egdb_dir, train_pct=.8, valid_pct=.1)\n",
    "\n",
    "test_files = split['test']\n",
    "\n",
    "egdb_test_ds = GttDataset(audio_dir = egdb_dir,\n",
    "                          midi_dir = '',\n",
    "                          file_list = test_files, \n",
    "                          trim_duration = 2,\n",
    "                          segment_length_seconds=4,\n",
    "                          max_n_pitch=30,\n",
    "                          random_crop=False,\n",
    "                          permute_pitch=False,\n",
    "                          loud_mean = loudness_metrics['mean'],\n",
    "                          loud_std = loudness_metrics['std'],\n",
    "                          device=device)\n",
    "\n",
    "egdb_test_dl = DataLoader(egdb_test_ds, 3, shuffle=False)\n",
    "\n",
    "\n",
    "test_model(model = gs_bp_model, \n",
    "           test_loader = egdb_test_dl, \n",
    "           calc_fad=True, \n",
    "           baseline_dir=gs_baseline_dir,\n",
    "           test_dir=egdb_test_dir)"
   ]
  },
  {
   "cell_type": "markdown",
   "id": "32243d64-d6ce-4035-8d4c-cdb960121a1c",
   "metadata": {},
   "source": [
    "### SynthTab"
   ]
  },
  {
   "cell_type": "markdown",
   "id": "67bb610a-889c-4752-bc8b-7d5ffcb94ca7",
   "metadata": {},
   "source": [
    "FAD:"
   ]
  },
  {
   "cell_type": "code",
   "execution_count": null,
   "id": "9e96adf7-aa3f-482b-8483-6e579304781a",
   "metadata": {},
   "outputs": [],
   "source": [
    "gs_baseline_dir = 'Data/GuitarSet/eval_fad'\n",
    "\n",
    "st_dir = 'Data/synthtab_acoustic/audio'\n",
    "st_test_dir = 'Data/synthtab_acoustic/test'\n",
    "\n",
    "split = train_test_split(st_dir, train_pct=.8, valid_pct=.1)\n",
    "\n",
    "test_files = split['test']\n",
    "\n",
    "st_test_ds = GttDataset(audio_dir = st_dir,\n",
    "                          midi_dir = '',\n",
    "                          file_list = test_files, \n",
    "                          trim_duration = 15,\n",
    "                          segment_length_seconds=4,\n",
    "                          max_n_pitch=30,\n",
    "                          random_crop=False,\n",
    "                          permute_pitch=False,\n",
    "                          loud_mean = loudness_metrics['mean'],\n",
    "                          loud_std = loudness_metrics['std'],\n",
    "                          device=device)\n",
    "\n",
    "st_test_dl = DataLoader(st_test_ds, 3, shuffle=False)\n",
    "\n",
    "\n",
    "test_model(model = gs_bp_model, \n",
    "           test_loader = st_test_dl, \n",
    "           calc_fad=True, \n",
    "           baseline_dir=gs_baseline_dir,\n",
    "           test_dir=st_test_dir)"
   ]
  },
  {
   "cell_type": "markdown",
   "id": "e8cffaca-d8ff-4b7d-b4da-2a1e5d124d19",
   "metadata": {
    "tags": []
   },
   "source": [
    "# EGDB BP"
   ]
  },
  {
   "cell_type": "markdown",
   "id": "cb921fec-7a32-4e19-b912-9904ea71e76f",
   "metadata": {
    "jp-MarkdownHeadingCollapsed": true,
    "tags": []
   },
   "source": [
    "## Set up"
   ]
  },
  {
   "cell_type": "code",
   "execution_count": null,
   "id": "3d3c4d47-ee4d-4062-911a-d6b5f515a891",
   "metadata": {
    "tags": []
   },
   "outputs": [],
   "source": [
    "egdb_dir = 'Data/EGDB/audio'\n",
    "\n",
    "split = train_test_split(egdb_dir, train_pct=.8, valid_pct=.1)\n",
    "\n",
    "train_files = split['train']\n",
    "valid_files = split['valid']\n",
    "test_files = split['test']\n",
    "\n",
    "loudness_metrics = get_mean_std_loudness(egdb_dir, train_files)\n",
    "\n",
    "egdb_bp_train_ds = GttDataset(audio_dir = egdb_dir,\n",
    "                             midi_dir = '',\n",
    "                             file_list = train_files, \n",
    "                             segment_length_seconds=4,\n",
    "                             max_n_pitch=30,\n",
    "                             trim_duration = 3,\n",
    "                             loud_mean = loudness_metrics['mean'],\n",
    "                             loud_std = loudness_metrics['std'],\n",
    "                             device=device)\n",
    "\n",
    "egdb_bp_valid_ds = GttDataset(audio_dir = egdb_dir,\n",
    "                             midi_dir = '',\n",
    "                             file_list = valid_files, \n",
    "                             segment_length_seconds=4,\n",
    "                             max_n_pitch=30,\n",
    "                             random_crop=False,\n",
    "                             permute_pitch=False,\n",
    "                             trim_duration = 3,\n",
    "                             loud_mean = loudness_metrics['mean'],\n",
    "                             loud_std = loudness_metrics['std'],\n",
    "                             device=device)\n",
    "\n",
    "egdb_bp_test_ds = GttDataset(audio_dir = egdb_dir,\n",
    "                             midi_dir = '',\n",
    "                             file_list = test_files, \n",
    "                             segment_length_seconds=4,\n",
    "                             max_n_pitch=30,\n",
    "                             random_crop=False,\n",
    "                             permute_pitch=False,\n",
    "                             trim_duration = 3,\n",
    "                             loud_mean = loudness_metrics['mean'],\n",
    "                             loud_std = loudness_metrics['std'],\n",
    "                             device=device)\n",
    "\n",
    "egdb_bp_train_dl = DataLoader(egdb_bp_train_ds, 3, shuffle=True)\n",
    "egdb_bp_valid_dl = DataLoader(egdb_bp_valid_ds, 3, shuffle=False)\n",
    "egdb_bp_test_dl = DataLoader(egdb_bp_test_ds, 3, shuffle=False)\n",
    "\n",
    "\n",
    "egdb_bp_ckpt_dir = 'model_checkpoints/egdb_bp'\n",
    "\n",
    "egdb_bp_model = GttNet(device=device,\n",
    "                      input_length_seconds=4,\n",
    "                      hop_length=128,\n",
    "                      harmonic_n_controls=101,\n",
    "                      gru_features=512,\n",
    "                      noise_initial_bias=-5.0,\n",
    "                      mlp_blocks=3,\n",
    "                      timbre_enc_size = 15,\n",
    "                      use_timbre_encoder=True,\n",
    "                      use_amp_latent=True,\n",
    "                      gru_cat=False,\n",
    "                      trainable_velocity=False,\n",
    "                      use_reverb=False).to(device)"
   ]
  },
  {
   "cell_type": "markdown",
   "id": "bb32b433-1b73-48b6-a8cd-53bbc69d6325",
   "metadata": {
    "jp-MarkdownHeadingCollapsed": true,
    "tags": []
   },
   "source": [
    "## Train"
   ]
  },
  {
   "cell_type": "markdown",
   "id": "96b415ab-73e7-4f64-9811-16381b4b5a2e",
   "metadata": {},
   "source": [
    "Configuration 1: 2644\n",
    "\n",
    "Configuration 2: 2323"
   ]
  },
  {
   "cell_type": "code",
   "execution_count": null,
   "id": "f44655dd-647e-429d-aa7c-496f0f3ce649",
   "metadata": {
    "tags": []
   },
   "outputs": [],
   "source": [
    "start_time = time.time()\n",
    "\n",
    "train_loop(model = egdb_bp_model, \n",
    "            train_loader = egdb_bp_train_dl, \n",
    "            valid_loader = egdb_bp_valid_dl, \n",
    "            epochs=4000,\n",
    "            valid_freq=1,\n",
    "            loud_epoch_freq=10,\n",
    "            train_hours=8,\n",
    "            ckpt_dir=egdb_bp_ckpt_dir,\n",
    "            loud_batch=False)\n",
    "\n",
    "end_time = time.time()\n",
    "total_time = end_time - start_time\n",
    "\n",
    "print('Run Time: {}'.format(total_time))"
   ]
  },
  {
   "cell_type": "markdown",
   "id": "ca1f0fdf-b106-40ff-9d36-2eeed4ceab55",
   "metadata": {
    "tags": []
   },
   "source": [
    "## Evaluate"
   ]
  },
  {
   "cell_type": "code",
   "execution_count": null,
   "id": "84d14f8b-a752-4762-b565-65db86a46aed",
   "metadata": {},
   "outputs": [],
   "source": [
    "ckpt_path = 'model_checkpoints/egdb_bp/model_epoch_final_config2.pt'\n",
    "\n",
    "egdb_bp_model = GttNet(device=device,\n",
    "                      input_length_seconds=4,\n",
    "                      hop_length=128,\n",
    "                      harmonic_n_controls=101,\n",
    "                      gru_features=512,\n",
    "                      noise_initial_bias=-5.0,\n",
    "                      mlp_blocks=3,\n",
    "                      timbre_enc_size = 15,\n",
    "                      use_timbre_encoder=True,\n",
    "                      use_amp_latent=True,\n",
    "                      gru_cat=False,\n",
    "                      trainable_velocity=True,\n",
    "                      use_reverb=False).to(device)\n",
    "\n",
    "egdb_bp_model.load_state_dict(torch.load(ckpt_path))\n",
    "\n",
    "egdb_dir = 'Data/EGDB/audio'\n",
    "\n",
    "split = train_test_split(egdb_dir, train_pct=.8, valid_pct=.1)\n",
    "\n",
    "train_files = split['train']\n",
    "test_files = split['train']\n",
    "\n",
    "loudness_metrics = get_mean_std_loudness(egdb_dir, train_files)\n",
    "\n",
    "egdb_bp_test_ds = GttDataset(audio_dir = egdb_dir,\n",
    "                             midi_dir = '',\n",
    "                             file_list = test_files, \n",
    "                             segment_length_seconds=4,\n",
    "                             max_n_pitch=30,\n",
    "                             random_crop=False,\n",
    "                             permute_pitch=False,\n",
    "                             trim_duration = 3,\n",
    "                             loud_mean = loudness_metrics['mean'],\n",
    "                             loud_std = loudness_metrics['std'],\n",
    "                             device=device)\n",
    "egdb_bp_test_dl = DataLoader(egdb_bp_test_ds, 3, shuffle=False)"
   ]
  },
  {
   "cell_type": "markdown",
   "id": "464d205b-70b4-46b6-96e1-35c400289033",
   "metadata": {
    "tags": []
   },
   "source": [
    "### Reconstruction Metrics"
   ]
  },
  {
   "cell_type": "markdown",
   "id": "059c01c0-a825-4ab1-b734-6d81e3d3d29f",
   "metadata": {},
   "source": [
    "Mean MFCC Distance: 6956.451264880952\n",
    "\n",
    "Mean loudness l2 Distance: 634.1826414078001\n",
    "\n",
    "Mean MS spectral loss: 1.0165660381317139"
   ]
  },
  {
   "cell_type": "code",
   "execution_count": null,
   "id": "5184527c-34a5-41d6-b2ff-9128c40ef163",
   "metadata": {},
   "outputs": [],
   "source": [
    "test_len = len(egdb_bp_test_dl)\n",
    "\n",
    "mfcc_dist = 0\n",
    "loudness_l2 = 0\n",
    "msstft = 0\n",
    "\n",
    "egdb_bp_model.eval()\n",
    "msstft_calc = SpectralLoss()\n",
    "\n",
    "for batch in egdb_bp_test_dl:\n",
    "    out_audio = egdb_bp_model(batch)\n",
    "    \n",
    "    mfcc_dist += mfcc_fro_distance(batch['audio'],out_audio, device=device)\n",
    "    loudness_l2 += loudness_l2_distance(batch['audio'], out_audio, device=device)\n",
    "    msstft += msstft_calc(out_audio,batch['audio']).item()\n",
    "\n",
    "    \n",
    "print('Mean MFCC Distance: {}'.format(mfcc_dist/test_len))\n",
    "print('Mean loudness l2 Distance: {}'.format(loudness_l2/test_len))\n",
    "print('Mean MS spectral loss: {}'.format(msstft/test_len))"
   ]
  },
  {
   "cell_type": "markdown",
   "id": "4b88cb3f-ce97-495a-be79-09c7d8b4c454",
   "metadata": {
    "tags": []
   },
   "source": [
    "### Guitar Set HRG"
   ]
  },
  {
   "cell_type": "code",
   "execution_count": null,
   "id": "d03e933f-0213-4324-89ff-63206452e290",
   "metadata": {
    "tags": []
   },
   "outputs": [],
   "source": [
    "egdb_baseline_dir = 'Data/EGDB/eval_fad'\n",
    "\n",
    "gs_dir = 'Data/GuitarSet/audio_pickup'\n",
    "gs_test_dir = 'Data/GuitarSet/test'\n",
    "\n",
    "split = train_test_split(gs_dir, train_pct=.8, valid_pct=.1)\n",
    "\n",
    "test_files = split['test']\n",
    "\n",
    "gs_hrg_test_ds = GttDataset(audio_dir = gs_dir,\n",
    "                          midi_dir = 'Data/GuitarSet/hr_labels',\n",
    "                          file_list = test_files, \n",
    "                          trim_duration = 5,\n",
    "                          segment_length_seconds=4,\n",
    "                          max_n_pitch=30,\n",
    "                          random_crop=False,\n",
    "                          permute_pitch=False,\n",
    "                          loud_mean = loudness_metrics['mean'],\n",
    "                          loud_std = loudness_metrics['std'],\n",
    "                          device=device)\n",
    "\n",
    "gs_hrg_test_dl = DataLoader(gs_hrg_test_ds, 3, shuffle=False)\n",
    "\n",
    "\n",
    "test_model(model = egdb_bp_model, \n",
    "           test_loader = gs_hrg_test_dl, \n",
    "           calc_fad=True, \n",
    "           baseline_dir=egdb_baseline_dir,\n",
    "           test_dir=gs_test_dir)"
   ]
  },
  {
   "cell_type": "markdown",
   "id": "697e183f-95ec-48e2-b3b6-90d30752db2f",
   "metadata": {
    "tags": []
   },
   "source": [
    "### Guitar Set BP"
   ]
  },
  {
   "cell_type": "code",
   "execution_count": null,
   "id": "98251734-45f8-4da3-9ee3-15c16909d603",
   "metadata": {
    "tags": []
   },
   "outputs": [],
   "source": [
    "egdb_baseline_dir = 'Data/EGDB/eval_fad'\n",
    "\n",
    "gs_dir = 'Data/GuitarSet/audio_pickup'\n",
    "gs_test_dir = 'Data/GuitarSet/test'\n",
    "\n",
    "split = train_test_split(gs_dir, train_pct=.8, valid_pct=.1)\n",
    "\n",
    "test_files = split['test']\n",
    "\n",
    "gs_bp_test_ds = GttDataset(audio_dir = gs_dir,\n",
    "                          midi_dir = '',\n",
    "                          file_list = test_files, \n",
    "                          trim_duration = 5,\n",
    "                          segment_length_seconds=4,\n",
    "                          max_n_pitch=30,\n",
    "                          random_crop=False,\n",
    "                          permute_pitch=False,\n",
    "                          loud_mean = loudness_metrics['mean'],\n",
    "                          loud_std = loudness_metrics['std'],\n",
    "                          device=device)\n",
    "\n",
    "gs_bp_test_dl = DataLoader(gs_bp_test_ds, 3, shuffle=False)\n",
    "\n",
    "\n",
    "test_model(model = egdb_bp_model, \n",
    "           test_loader = gs_bp_test_dl, \n",
    "           calc_fad=True, \n",
    "           baseline_dir=egdb_baseline_dir,\n",
    "           test_dir=gs_test_dir)"
   ]
  },
  {
   "cell_type": "markdown",
   "id": "22621d41-a88d-42f1-b83f-c13dd7324409",
   "metadata": {
    "tags": []
   },
   "source": [
    "### Synthtab"
   ]
  },
  {
   "cell_type": "code",
   "execution_count": null,
   "id": "0ee6783a-f50a-4d55-9622-05d84cf802cc",
   "metadata": {},
   "outputs": [],
   "source": [
    "egdb_baseline_dir = 'Data/EGDB/eval_fad'\n",
    "\n",
    "st_dir = 'Data/synthtab_acoustic/audio'\n",
    "st_test_dir = 'Data/synthtab_acoustic/test'\n",
    "\n",
    "split = train_test_split(st_dir, train_pct=.8, valid_pct=.1)\n",
    "\n",
    "test_files = split['test']\n",
    "\n",
    "st_test_ds = GttDataset(audio_dir = st_dir,\n",
    "                          midi_dir = '',\n",
    "                          file_list = test_files, \n",
    "                          trim_duration = 5,\n",
    "                          segment_length_seconds=4,\n",
    "                          max_n_pitch=30,\n",
    "                          random_crop=False,\n",
    "                          permute_pitch=False,\n",
    "                          loud_mean = loudness_metrics['mean'],\n",
    "                          loud_std = loudness_metrics['std'],\n",
    "                          device=device)\n",
    "\n",
    "st_test_dl = DataLoader(st_test_ds, 3, shuffle=False)\n",
    "\n",
    "\n",
    "test_model(model = egdb_bp_model, \n",
    "           test_loader = st_test_dl, \n",
    "           calc_fad=True, \n",
    "           baseline_dir=egdb_baseline_dir,\n",
    "           test_dir=st_test_dir)"
   ]
  },
  {
   "cell_type": "markdown",
   "id": "0f6eedf6-4910-4738-bbf3-2b2a149eb71b",
   "metadata": {
    "jp-MarkdownHeadingCollapsed": true,
    "tags": []
   },
   "source": [
    "# EGDB MIDI"
   ]
  },
  {
   "cell_type": "markdown",
   "id": "6a3dd47f-9899-4c7e-9052-f08ad508982c",
   "metadata": {
    "tags": []
   },
   "source": [
    "## Setup"
   ]
  },
  {
   "cell_type": "code",
   "execution_count": null,
   "id": "47953384-4b48-4ca6-a984-8edcf2c0c7df",
   "metadata": {},
   "outputs": [],
   "source": [
    "egdb_dir = 'Data/EGDB/audio'\n",
    "\n",
    "split = train_test_split(egdb_dir, train_pct=.8, valid_pct=.1)\n",
    "\n",
    "train_files = split['train']\n",
    "valid_files = split['valid']\n",
    "test_files = split['test']\n",
    "\n",
    "loudness_metrics = get_mean_std_loudness(egdb_dir, train_files)\n",
    "\n",
    "egdb_midi_train_ds = GttDataset(audio_dir = egdb_dir,\n",
    "                             midi_dir = 'Data/EGDB/labels',\n",
    "                             file_list = train_files, \n",
    "                             segment_length_seconds=4,\n",
    "                             trim_duration = 3,\n",
    "                             max_n_pitch=30,\n",
    "                             loud_mean = loudness_metrics['mean'],\n",
    "                             loud_std = loudness_metrics['std'],\n",
    "                             device=device)\n",
    "\n",
    "egdb_midi_valid_ds = GttDataset(audio_dir = egdb_dir,\n",
    "                             midi_dir = '',\n",
    "                             file_list = valid_files, \n",
    "                             segment_length_seconds=4,\n",
    "                             trim_duration = 3,\n",
    "                             max_n_pitch=30,\n",
    "                             permute_pitch=False,\n",
    "                             random_crop=False,\n",
    "                             loud_mean = loudness_metrics['mean'],\n",
    "                             loud_std = loudness_metrics['std'],\n",
    "                             device=device)\n",
    "\n",
    "\n",
    "egdb_midi_test_ds = GttDataset(audio_dir = egdb_dir,\n",
    "                             midi_dir = '',\n",
    "                             file_list = test_files, \n",
    "                             segment_length_seconds=4,\n",
    "                             trim_duration = 3,\n",
    "                             max_n_pitch=30,\n",
    "                             random_crop=False,\n",
    "                             permute_pitch=False,\n",
    "                             loud_mean = loudness_metrics['mean'],\n",
    "                             loud_std = loudness_metrics['std'],\n",
    "                             device=device)\n",
    "\n",
    "egdb_midi_train_dl = DataLoader(egdb_midi_train_ds, 3, shuffle=True)\n",
    "egdb_midi_valid_dl = DataLoader(egdb_midi_valid_ds, 3, shuffle=False)\n",
    "egdb_midi_test_dl = DataLoader(egdb_midi_test_ds, 3, shuffle=False)\n",
    "\n",
    "\n",
    "egdb_midi_ckpt_dir = 'model_checkpoints/egdb_midi'\n",
    "\n",
    "egdb_midi_model = GttNet(device=device,\n",
    "                      input_length_seconds=4,\n",
    "                      hop_length=128,\n",
    "                      harmonic_n_controls=101,\n",
    "                      gru_features=512,\n",
    "                      noise_initial_bias=-5.0,\n",
    "                      mlp_blocks=3,\n",
    "                      timbre_enc_size = 15,\n",
    "                      use_timbre_encoder=True,\n",
    "                      gru_cat=False,\n",
    "                      use_amp_latent=False, #egdb paper sites that midi labels do not transcribe velocity\n",
    "                      use_reverb=False).to(device)"
   ]
  },
  {
   "cell_type": "markdown",
   "id": "109a8d68-2abc-4ef9-aa33-6ab620b0feaa",
   "metadata": {
    "jp-MarkdownHeadingCollapsed": true,
    "tags": []
   },
   "source": [
    "## Train"
   ]
  },
  {
   "cell_type": "code",
   "execution_count": null,
   "id": "a0725a61-5f6e-4c14-b275-7e72bf89240e",
   "metadata": {
    "tags": []
   },
   "outputs": [],
   "source": [
    "start_time = time.time()\n",
    "\n",
    "train_loop(model = egdb_midi_model, \n",
    "            train_loader = egdb_midi_train_dl, \n",
    "            valid_loader = egdb_midi_valid_dl, \n",
    "            epochs=20000,\n",
    "            valid_freq=10,\n",
    "            loud_epoch_freq=10,\n",
    "            train_hours=12,\n",
    "            ckpt_dir=egdb_midi_ckpt_dir,\n",
    "            loud_batch=False)\n",
    "\n",
    "end_time = time.time()\n",
    "total_time = end_time - start_time\n",
    "\n",
    "print('Run Time: {}'.format(total_time))"
   ]
  },
  {
   "cell_type": "markdown",
   "id": "14c4e24c-650d-4e04-8d55-4ebfb92c1b9a",
   "metadata": {
    "tags": []
   },
   "source": [
    "## Evaluate"
   ]
  },
  {
   "cell_type": "code",
   "execution_count": null,
   "id": "647940db-870f-446b-9328-128b7da6465c",
   "metadata": {},
   "outputs": [],
   "source": [
    "ckpt_path = 'model_checkpoints/egdb_midi/model_epoch_final_config2.pt'\n",
    "\n",
    "egdb_midi_model = GttNet(device=device,\n",
    "                      input_length_seconds=4,\n",
    "                      hop_length=128,\n",
    "                      harmonic_n_controls=101,\n",
    "                      gru_features=512,\n",
    "                      noise_initial_bias=-5.0,\n",
    "                      mlp_blocks=3,\n",
    "                      timbre_enc_size = 15,\n",
    "                      use_timbre_encoder=True,\n",
    "                      use_amp_latent=False,\n",
    "                    gru_cat=False,\n",
    "                      use_reverb=False).to(device)\n",
    "\n",
    "egdb_midi_model.load_state_dict(torch.load(ckpt_path))\n",
    "\n",
    "\n",
    "egdb_dir = 'Data/EGDB/audio'\n",
    "\n",
    "split = train_test_split(egdb_dir, train_pct=.8, valid_pct=.1)\n",
    "\n",
    "test_files = split['test']\n",
    "train_files = split['train']\n",
    "\n",
    "loudness_metrics = get_mean_std_loudness(egdb_dir, train_files)\n",
    "\n",
    "egdb_midi_test_ds = GttDataset(audio_dir = egdb_dir,\n",
    "                             midi_dir = '',\n",
    "                             file_list = test_files, \n",
    "                             segment_length_seconds=4,\n",
    "                             trim_duration = 3,\n",
    "                             max_n_pitch=30,\n",
    "                             random_crop=False,\n",
    "                             permute_pitch=False,\n",
    "                             loud_mean = loudness_metrics['mean'],\n",
    "                             loud_std = loudness_metrics['std'],\n",
    "                             device=device)\n",
    "\n",
    "egdb_midi_test_dl = DataLoader(egdb_midi_test_ds, 3, shuffle=False)"
   ]
  },
  {
   "cell_type": "markdown",
   "id": "c08aae4b-338b-49ac-ab7a-6fabd528ed3a",
   "metadata": {
    "tags": []
   },
   "source": [
    "### Reconstruction Metrics"
   ]
  },
  {
   "cell_type": "markdown",
   "id": "12ca2f5d-8f95-48d5-863f-23b333edb604",
   "metadata": {
    "tags": []
   },
   "source": [
    "Mean MFCC Distance: 5544.938530815973\n",
    "\n",
    "Mean loudness l2 Distance: 279.251953125\n",
    "\n",
    "Mean MS spectral loss: 0.9871127605438232"
   ]
  },
  {
   "cell_type": "code",
   "execution_count": null,
   "id": "39cbf831-57d6-4f41-a61a-12d747a704d6",
   "metadata": {},
   "outputs": [],
   "source": [
    "test_len = len(egdb_midi_test_dl)\n",
    "\n",
    "mfcc_dist = 0\n",
    "loudness_l2 = 0\n",
    "msstft = 0\n",
    "\n",
    "egdb_midi_model.eval()\n",
    "msstft_calc = SpectralLoss()\n",
    "\n",
    "for batch in egdb_midi_test_dl:\n",
    "    out_audio = egdb_midi_model(batch)\n",
    "    \n",
    "    mfcc_dist += mfcc_fro_distance(batch['audio'],out_audio, device=device)\n",
    "    loudness_l2 += loudness_l2_distance(batch['audio'], out_audio, device=device)\n",
    "    msstft += msstft_calc(out_audio,batch['audio']).item()\n",
    "\n",
    "    \n",
    "print('Mean MFCC Distance: {}'.format(mfcc_dist/test_len))\n",
    "print('Mean loudness l2 Distance: {}'.format(loudness_l2/test_len))\n",
    "print('Mean MS spectral loss: {}'.format(msstft/test_len))"
   ]
  },
  {
   "cell_type": "markdown",
   "id": "b0a8efc4-1ae2-4a41-a5ee-35b9da12e031",
   "metadata": {
    "tags": []
   },
   "source": [
    "### Guitar Set HRG"
   ]
  },
  {
   "cell_type": "code",
   "execution_count": null,
   "id": "88920519-fc1d-4038-a8b0-d55531671f7b",
   "metadata": {
    "tags": []
   },
   "outputs": [],
   "source": [
    "egdb_baseline_dir = 'Data/EGDB/eval_fad'\n",
    "\n",
    "gs_dir = 'Data/GuitarSet/audio_pickup'\n",
    "gs_test_dir = 'Data/GuitarSet/test'\n",
    "\n",
    "split = train_test_split(gs_dir, train_pct=.8, valid_pct=.1)\n",
    "\n",
    "test_files = split['test']\n",
    "\n",
    "gs_hrg_test_ds = GttDataset(audio_dir = gs_dir,\n",
    "                          midi_dir = 'Data/GuitarSet/hr_labels',\n",
    "                          file_list = test_files, \n",
    "                          trim_duration = 5,\n",
    "                          segment_length_seconds=4,\n",
    "                          max_n_pitch=30,\n",
    "                          random_crop=False,\n",
    "                          permute_pitch=False,\n",
    "                          loud_mean = loudness_metrics['mean'],\n",
    "                          loud_std = loudness_metrics['std'],\n",
    "                          device=device)\n",
    "\n",
    "gs_hrg_test_dl = DataLoader(gs_hrg_test_ds, 3, shuffle=False)\n",
    "\n",
    "\n",
    "test_model(model = egdb_midi_model, \n",
    "           test_loader = gs_hrg_test_dl, \n",
    "           calc_fad=True, \n",
    "           baseline_dir=egdb_baseline_dir,\n",
    "           test_dir=gs_test_dir)"
   ]
  },
  {
   "cell_type": "markdown",
   "id": "d70541ec-98de-4166-8a3d-7e4728e0bef1",
   "metadata": {
    "tags": []
   },
   "source": [
    "### Guitar Set BP"
   ]
  },
  {
   "cell_type": "code",
   "execution_count": null,
   "id": "c9448550-6cf0-4582-aed5-076d195bd841",
   "metadata": {},
   "outputs": [],
   "source": [
    "egdb_baseline_dir = 'Data/EGDB/eval_fad'\n",
    "\n",
    "gs_dir = 'Data/GuitarSet/audio_pickup'\n",
    "gs_test_dir = 'Data/GuitarSet/test'\n",
    "\n",
    "split = train_test_split(gs_dir, train_pct=.8, valid_pct=.1)\n",
    "\n",
    "test_files = split['test']\n",
    "\n",
    "gs_bp_test_ds = GttDataset(audio_dir = gs_dir,\n",
    "                          midi_dir = '',\n",
    "                          file_list = test_files, \n",
    "                          trim_duration = 5,\n",
    "                          segment_length_seconds=4,\n",
    "                          max_n_pitch=30,\n",
    "                          random_crop=False,\n",
    "                          permute_pitch=False,\n",
    "                          loud_mean = loudness_metrics['mean'],\n",
    "                          loud_std = loudness_metrics['std'],\n",
    "                          device=device)\n",
    "\n",
    "gs_bp_test_dl = DataLoader(gs_bp_test_ds, 3, shuffle=False)\n",
    "\n",
    "\n",
    "test_model(model = egdb_midi_model, \n",
    "           test_loader = gs_bp_test_dl, \n",
    "           calc_fad=True, \n",
    "           baseline_dir=egdb_baseline_dir,\n",
    "           test_dir=gs_test_dir)"
   ]
  },
  {
   "cell_type": "markdown",
   "id": "7b9b7a39-4916-4f06-891c-bcedc6735fbc",
   "metadata": {
    "tags": []
   },
   "source": [
    "### Synthtab"
   ]
  },
  {
   "cell_type": "code",
   "execution_count": null,
   "id": "24e31c90-e0ab-4140-a3d3-e17d43544c53",
   "metadata": {
    "tags": []
   },
   "outputs": [],
   "source": [
    "egdb_baseline_dir = 'Data/EGDB/eval_fad'\n",
    "\n",
    "st_dir = 'Data/synthtab_acoustic/audio'\n",
    "st_test_dir = 'Data/synthtab_acoustic/test'\n",
    "\n",
    "split = train_test_split(st_dir, train_pct=0, valid_pct=0)\n",
    "\n",
    "test_files = split['test']\n",
    "\n",
    "st_test_ds = GttDataset(audio_dir = st_dir,\n",
    "                          midi_dir = '',\n",
    "                          file_list = test_files, \n",
    "                          trim_duration = 10,\n",
    "                          segment_length_seconds=4,\n",
    "                          max_n_pitch=30,\n",
    "                          random_crop=False,\n",
    "                          permute_pitch=False,\n",
    "                          loud_mean = loudness_metrics['mean'],\n",
    "                          loud_std = loudness_metrics['std'],\n",
    "                          device=device)\n",
    "\n",
    "st_test_dl = DataLoader(st_test_ds, 3, shuffle=False)\n",
    "\n",
    "\n",
    "test_model(model = egdb_midi_model, \n",
    "           test_loader = st_test_dl, \n",
    "           calc_fad=True, \n",
    "           baseline_dir=egdb_baseline_dir,\n",
    "           test_dir=st_test_dir)"
   ]
  },
  {
   "cell_type": "markdown",
   "id": "eaa30aef-6a7b-4598-9462-cee13d68ae46",
   "metadata": {
    "tags": []
   },
   "source": [
    "# Synth Tab Acoustic"
   ]
  },
  {
   "cell_type": "markdown",
   "id": "f3f5c4a9-215d-4358-8c7d-6ffc7d80c0f3",
   "metadata": {
    "jp-MarkdownHeadingCollapsed": true,
    "tags": []
   },
   "source": [
    "## Set Up"
   ]
  },
  {
   "cell_type": "code",
   "execution_count": null,
   "id": "c16460f8-2c41-45e6-9e31-0bfb1ab74aa8",
   "metadata": {},
   "outputs": [],
   "source": [
    "st_acoustic_dir = 'Data/synthtab_acoustic/audio'\n",
    "\n",
    "split = train_test_split(st_acoustic_dir, train_pct=.8, valid_pct=.1)\n",
    "\n",
    "train_files = split['train']\n",
    "valid_files = split['valid']\n",
    "test_files = split['test']\n",
    "\n",
    "loudness_metrics = get_mean_std_loudness(st_acoustic_dir, train_files)\n",
    "\n",
    "\n",
    "st_acoustic_train_ds = GttDataset(audio_dir = st_acoustic_dir,\n",
    "                             midi_dir = '',\n",
    "                             file_list = train_files, \n",
    "                             segment_length_seconds=4,\n",
    "                             trim_duration = 10,\n",
    "                             max_n_pitch=30,\n",
    "                             loud_mean = loudness_metrics['mean'],\n",
    "                             loud_std = loudness_metrics['std'],\n",
    "                             device=device)\n",
    "\n",
    "st_acoustic_valid_ds = GttDataset(audio_dir = st_acoustic_dir,\n",
    "                             midi_dir = '',\n",
    "                             file_list = valid_files, \n",
    "                             segment_length_seconds=4,\n",
    "                             trim_duration = 10,\n",
    "                             max_n_pitch=30,\n",
    "                             random_crop=False,\n",
    "                             permute_pitch=False,\n",
    "                             loud_mean = loudness_metrics['mean'],\n",
    "                             loud_std = loudness_metrics['std'],\n",
    "                             device=device)\n",
    "\n",
    "st_acoustic_test_ds = GttDataset(audio_dir = st_acoustic_dir,\n",
    "                             midi_dir = '',\n",
    "                             file_list = test_files, \n",
    "                             segment_length_seconds=4,\n",
    "                             trim_duration = 10,\n",
    "                             max_n_pitch=30,\n",
    "                             random_crop=False,\n",
    "                             permute_pitch=False,\n",
    "                             loud_mean = loudness_metrics['mean'],\n",
    "                             loud_std = loudness_metrics['std'],\n",
    "                             device=device)\n",
    "\n",
    "\n",
    "st_acoustic_train_dl = DataLoader(st_acoustic_train_ds, 3, shuffle=True)\n",
    "st_acoustic_valid_dl = DataLoader(st_acoustic_valid_ds, 3, shuffle=False)\n",
    "st_acoustic_test_dl = DataLoader(st_acoustic_test_ds, 3, shuffle=False)\n",
    "\n",
    "st_acoustic_ckpt_dir = 'model_checkpoints/synthtab_acoustic'\n",
    "\n",
    "st_acoustic_model = GttNet(device=device,\n",
    "                      input_length_seconds=4,\n",
    "                      hop_length=128,\n",
    "                      harmonic_n_controls=101,\n",
    "                      gru_features=512,\n",
    "                      noise_initial_bias=-5.0,\n",
    "                      mlp_blocks=3,\n",
    "                      timbre_enc_size = 15,\n",
    "                      use_timbre_encoder=True,\n",
    "                      gru_cat=False,\n",
    "                      trainable_velocity=False,\n",
    "                      use_amp_latent=True,\n",
    "                      use_reverb=False).to(device)"
   ]
  },
  {
   "cell_type": "markdown",
   "id": "ae9f8cb4-f218-4254-adfd-8424eff583ca",
   "metadata": {
    "jp-MarkdownHeadingCollapsed": true,
    "tags": []
   },
   "source": [
    "## Train"
   ]
  },
  {
   "cell_type": "markdown",
   "id": "6eb1c575-5fd4-4ecc-9f07-1e0a34842f55",
   "metadata": {
    "tags": []
   },
   "source": [
    "Config 1: 3611\n",
    "\n",
    "Config 2: 3562"
   ]
  },
  {
   "cell_type": "code",
   "execution_count": null,
   "id": "575aae40-9d12-49a5-90f9-3f46d89eb999",
   "metadata": {
    "collapsed": true,
    "jupyter": {
     "outputs_hidden": true
    },
    "tags": []
   },
   "outputs": [],
   "source": [
    "start_time = time.time()\n",
    "\n",
    "train_loop(model = st_acoustic_model, \n",
    "            train_loader = st_acoustic_train_dl, \n",
    "            valid_loader = st_acoustic_valid_dl, \n",
    "            epochs=100000,\n",
    "            valid_freq=100,\n",
    "            loud_epoch_freq=100,\n",
    "            train_hours=8,\n",
    "            early_stop_epochs = 200,\n",
    "            ckpt_dir=st_acoustic_ckpt_dir,\n",
    "            loud_batch=False)\n",
    "\n",
    "end_time = time.time()\n",
    "total_time = end_time - start_time\n",
    "\n",
    "print('Run Time: {}'.format(total_time))"
   ]
  },
  {
   "cell_type": "markdown",
   "id": "112a067d-17c4-4aed-a68d-c53af0c63b6c",
   "metadata": {
    "tags": []
   },
   "source": [
    "## Timbre Transfer Evaluate"
   ]
  },
  {
   "cell_type": "code",
   "execution_count": null,
   "id": "e609965b-7599-4a27-ad55-34df883745a3",
   "metadata": {},
   "outputs": [],
   "source": [
    "ckpt_path = 'model_checkpoints/synthtab_acoustic/model_epoch_final_config2.pt'\n",
    "\n",
    "st_acoustic_model = GttNet(device=device,\n",
    "                      input_length_seconds=4,\n",
    "                      hop_length=128,\n",
    "                      harmonic_n_controls=101,\n",
    "                      gru_features=512,\n",
    "                      noise_initial_bias=-5.0,\n",
    "                      mlp_blocks=3,\n",
    "                      timbre_enc_size = 15,\n",
    "                      use_timbre_encoder=True,\n",
    "                      gru_cat=False,\n",
    "                      trainable_velocity=True,\n",
    "                      use_amp_latent=False,\n",
    "                      use_reverb=False).to(device)\n",
    "\n",
    "st_acoustic_model.load_state_dict(torch.load(ckpt_path))\n",
    "\n",
    "\n",
    "st_acoustic_dir = 'Data/synthtab_acoustic/audio'\n",
    "\n",
    "split = train_test_split(st_acoustic_dir, train_pct=.8, valid_pct=.1)\n",
    "\n",
    "train_files = split['train']\n",
    "test_files = split['test']\n",
    "\n",
    "loudness_metrics = get_mean_std_loudness(st_acoustic_dir, train_files)\n",
    "\n",
    "st_acoustic_test_ds = GttDataset(audio_dir = st_acoustic_dir,\n",
    "                             midi_dir = '',\n",
    "                             file_list = test_files, \n",
    "                             segment_length_seconds=4,\n",
    "                             trim_duration = 10,\n",
    "                             max_n_pitch=30,\n",
    "                             random_crop=False,\n",
    "                             permute_pitch=False,\n",
    "                             loud_mean = loudness_metrics['mean'],\n",
    "                             loud_std = loudness_metrics['std'],\n",
    "                             device=device)\n",
    "\n",
    "st_acoustic_test_dl = DataLoader(st_acoustic_test_ds, 3, shuffle=False)"
   ]
  },
  {
   "cell_type": "markdown",
   "id": "923bd4e8-a40e-4312-b26e-512be15748f8",
   "metadata": {
    "tags": []
   },
   "source": [
    "### Reconstruction Metrics"
   ]
  },
  {
   "cell_type": "markdown",
   "id": "f7702ff3-bea6-4f7b-8ad5-e2d858742ad3",
   "metadata": {},
   "source": [
    "Mean MFCC Distance: 6835.857421875\n",
    "\n",
    "Mean loudness l2 Distance: 367.476806640625\n",
    "\n",
    "Mean MS spectral loss: 1.0953319072723389\n"
   ]
  },
  {
   "cell_type": "code",
   "execution_count": null,
   "id": "90f09842-22c4-4f52-b13a-d1fc116277a1",
   "metadata": {},
   "outputs": [],
   "source": [
    "test_len = len(st_acoustic_test_dl)\n",
    "\n",
    "mfcc_dist = 0\n",
    "loudness_l2 = 0\n",
    "msstft = 0\n",
    "\n",
    "st_acoustic_model.eval()\n",
    "msstft_calc = SpectralLoss()\n",
    "\n",
    "for batch in st_acoustic_test_dl:\n",
    "    out_audio = st_acoustic_model(batch)\n",
    "    \n",
    "    mfcc_dist += mfcc_fro_distance(batch['audio'],out_audio, device=device)\n",
    "    loudness_l2 += loudness_l2_distance(batch['audio'], out_audio, device=device)\n",
    "    msstft += msstft_calc(out_audio,batch['audio']).item()\n",
    "\n",
    "    \n",
    "print('Mean MFCC Distance: {}'.format(mfcc_dist/test_len))\n",
    "print('Mean loudness l2 Distance: {}'.format(loudness_l2/test_len))\n",
    "print('Mean MS spectral loss: {}'.format(msstft/test_len))"
   ]
  },
  {
   "cell_type": "markdown",
   "id": "cff374c7-160f-4239-91b7-ce0f70a2d9de",
   "metadata": {},
   "source": [
    "### SynthTab Electric"
   ]
  },
  {
   "cell_type": "code",
   "execution_count": null,
   "id": "a4cc525c-ef5a-4411-90bd-aaa0896c5785",
   "metadata": {},
   "outputs": [],
   "source": [
    "st_acoustic_baseline_dir  = 'Data/synthtab_acoustic/eval_fad'\n",
    "\n",
    "st_electric_dir = 'Data/synthtab_electric/audio'\n",
    "st_electric_test_dir = 'Data/synthtab_electric/test'\n",
    "\n",
    "split = train_test_split(st_electric_dir, train_pct=.8, valid_pct=.1)\n",
    "\n",
    "test_files = split['test']\n",
    "\n",
    "st_electric_test_ds = GttDataset(audio_dir = st_electric_dir,\n",
    "                          midi_dir = '',\n",
    "                          file_list = test_files, \n",
    "                          trim_duration = 10,\n",
    "                          segment_length_seconds=4,\n",
    "                          max_n_pitch=30,\n",
    "                          random_crop=False,\n",
    "                          permute_pitch=False,\n",
    "                          loud_mean = loudness_metrics['mean'],\n",
    "                          loud_std = loudness_metrics['std'],\n",
    "                          device=device)\n",
    "\n",
    "st_electric_test_dl = DataLoader(st_electric_test_ds, 3, shuffle=False)\n",
    "\n",
    "\n",
    "test_model(model = st_acoustic_model, \n",
    "           test_loader = st_electric_test_dl, \n",
    "           calc_fad=True, \n",
    "           baseline_dir=st_acoustic_baseline_dir,\n",
    "           test_dir=st_electric_test_dir)"
   ]
  },
  {
   "cell_type": "markdown",
   "id": "d1f0fc08-dbde-4a89-a9c5-f3fc846a6009",
   "metadata": {
    "tags": []
   },
   "source": [
    "# SynthTab Electric"
   ]
  },
  {
   "cell_type": "markdown",
   "id": "7d44e9b2-28e8-4bd4-9a92-bc5f082be52e",
   "metadata": {
    "jp-MarkdownHeadingCollapsed": true,
    "tags": []
   },
   "source": [
    "## Set Up"
   ]
  },
  {
   "cell_type": "code",
   "execution_count": null,
   "id": "4a64e732-e224-4f3b-ad6b-2b01eeae693d",
   "metadata": {},
   "outputs": [],
   "source": [
    "st_electric_dir = 'Data/synthtab_electric/audio'\n",
    "\n",
    "split = train_test_split(st_electric_dir, train_pct=.8, valid_pct=.1)\n",
    "\n",
    "train_files = split['train']\n",
    "valid_files = split['valid']\n",
    "test_files  = split['test']\n",
    "\n",
    "loudness_metrics = get_mean_std_loudness(st_electric_dir, train_files)\n",
    "\n",
    "\n",
    "st_electric_train_ds = GttDataset(audio_dir = st_electric_dir,\n",
    "                             midi_dir = '',\n",
    "                             file_list = train_files, \n",
    "                             segment_length_seconds=4,\n",
    "                             trim_duration = 10,\n",
    "                             max_n_pitch=30,\n",
    "                             loud_mean = loudness_metrics['mean'],\n",
    "                             loud_std = loudness_metrics['std'],\n",
    "                             device=device)\n",
    "\n",
    "st_electric_valid_ds = GttDataset(audio_dir = st_electric_dir,\n",
    "                             midi_dir = '',\n",
    "                             file_list = valid_files, \n",
    "                             segment_length_seconds=4,\n",
    "                             trim_duration = 10,\n",
    "                             max_n_pitch=30,\n",
    "                             random_crop=False,\n",
    "                             permute_pitch=False,\n",
    "                             loud_mean = loudness_metrics['mean'],\n",
    "                             loud_std = loudness_metrics['std'],\n",
    "                             device=device)\n",
    "\n",
    "st_electric_test_ds = GttDataset(audio_dir = st_electric_dir,\n",
    "                             midi_dir = '',\n",
    "                             file_list = test_files, \n",
    "                             segment_length_seconds=4,\n",
    "                             trim_duration = 10,\n",
    "                             max_n_pitch=30,\n",
    "                             random_crop=False,\n",
    "                             permute_pitch=False,\n",
    "                             loud_mean = loudness_metrics['mean'],\n",
    "                             loud_std = loudness_metrics['std'],\n",
    "                             device=device)\n",
    "\n",
    "st_electric_train_dl = DataLoader(st_electric_train_ds, 3, shuffle=True)\n",
    "st_electric_valid_dl = DataLoader(st_electric_valid_ds, 3, shuffle=False)\n",
    "st_electric_test_dl = DataLoader(st_electric_test_ds, 3, shuffle=False)\n",
    "\n",
    "\n",
    "st_electric_ckpt_dir = 'model_checkpoints/synthtab_electric'\n",
    "\n",
    "st_electric_model = GttNet(device=device,\n",
    "                      input_length_seconds=4,\n",
    "                      hop_length=128,\n",
    "                      harmonic_n_controls=101,\n",
    "                      gru_features=512,\n",
    "                      noise_initial_bias=-5.0,\n",
    "                      mlp_blocks=3,\n",
    "                      timbre_enc_size = 15,\n",
    "                      use_timbre_encoder=True,\n",
    "                      gru_cat=False,\n",
    "                      trainable_velocity=False,\n",
    "                      use_amp_latent=True,\n",
    "                      use_reverb=False).to(device)"
   ]
  },
  {
   "cell_type": "markdown",
   "id": "50f008d6-47d3-4240-b010-a380e79997f7",
   "metadata": {
    "tags": []
   },
   "source": [
    "## Train"
   ]
  },
  {
   "cell_type": "markdown",
   "id": "2a4b8d16-9541-49a7-9bb7-7899213e6301",
   "metadata": {},
   "source": [
    "Config 1: 3981\n",
    "\n",
    "Config 2: 4232"
   ]
  },
  {
   "cell_type": "code",
   "execution_count": null,
   "id": "079d9c06-2fd7-4d4f-95ab-1a9d031ea42d",
   "metadata": {
    "collapsed": true,
    "jupyter": {
     "outputs_hidden": true
    },
    "tags": []
   },
   "outputs": [],
   "source": [
    "start_time = time.time()\n",
    "\n",
    "train_loop(model = st_electric_model, \n",
    "            train_loader = st_electric_train_dl, \n",
    "            valid_loader = st_electric_valid_dl, \n",
    "            epochs=100000,\n",
    "            valid_freq=100,\n",
    "            loud_epoch_freq=100,\n",
    "            train_hours=8,\n",
    "            early_stop_epochs = 200,\n",
    "            ckpt_dir=st_electric_ckpt_dir,\n",
    "            loud_batch=False)\n",
    "\n",
    "end_time = time.time()\n",
    "total_time = end_time - start_time\n",
    "\n",
    "print('Run Time: {}'.format(total_time))"
   ]
  },
  {
   "cell_type": "markdown",
   "id": "98236052-1755-4790-88a2-da916d1afe90",
   "metadata": {
    "tags": []
   },
   "source": [
    "## Evaluate"
   ]
  },
  {
   "cell_type": "code",
   "execution_count": null,
   "id": "cb641f08-08e9-4013-a953-bf73c7a48f0a",
   "metadata": {},
   "outputs": [],
   "source": [
    "ckpt_path = 'model_checkpoints/synthtab_electric/model_epoch_final_config1.pt'\n",
    "\n",
    "st_electric_model = GttNet(device=device,\n",
    "                      input_length_seconds=4,\n",
    "                      hop_length=128,\n",
    "                      harmonic_n_controls=101,\n",
    "                      gru_features=512,\n",
    "                      noise_initial_bias=-5.0,\n",
    "                      mlp_blocks=3,\n",
    "                      timbre_enc_size = 15,\n",
    "                      use_timbre_encoder=True,\n",
    "                      gru_cat=False,\n",
    "                      trainable_velocity=False,\n",
    "                      use_amp_latent=True, \n",
    "                      use_reverb=False).to(device)\n",
    "\n",
    "st_electric_model.load_state_dict(torch.load(ckpt_path))\n",
    "\n",
    "st_electric_dir = 'Data/synthtab_electric/audio'\n",
    "\n",
    "split = train_test_split(st_electric_dir, train_pct=.8, valid_pct=.1)\n",
    "\n",
    "train_files = split['train']\n",
    "\n",
    "loudness_metrics = get_mean_std_loudness(st_electric_dir, train_files)"
   ]
  },
  {
   "cell_type": "markdown",
   "id": "d05450d5-a658-4d03-90e1-979d925432a8",
   "metadata": {},
   "source": [
    "## Reconstruction Metrics"
   ]
  },
  {
   "cell_type": "markdown",
   "id": "28354855-5639-4582-ad7f-97ddb91646f0",
   "metadata": {
    "tags": []
   },
   "source": [
    "Mean MFCC Distance: 6389.4375\n",
    "\n",
    "Mean loudness l2 Distance: 314.3045349121094\n",
    "\n",
    "Mean MS spectral loss: 1.0757502317428589\n"
   ]
  },
  {
   "cell_type": "code",
   "execution_count": null,
   "id": "3519f41b-2403-4fb7-9a79-4b361ea96245",
   "metadata": {},
   "outputs": [],
   "source": [
    "test_len = len(st_electric_test_dl)\n",
    "\n",
    "mfcc_dist = 0\n",
    "loudness_l2 = 0\n",
    "msstft = 0\n",
    "\n",
    "st_acoustic_model.eval()\n",
    "msstft_calc = SpectralLoss()\n",
    "\n",
    "for batch in st_electric_test_dl:\n",
    "    out_audio = st_electric_model(batch)\n",
    "    \n",
    "    mfcc_dist += mfcc_fro_distance(batch['audio'],out_audio, device=device)\n",
    "    loudness_l2 += loudness_l2_distance(batch['audio'], out_audio, device=device)\n",
    "    msstft += msstft_calc(out_audio,batch['audio']).item()\n",
    "\n",
    "    \n",
    "print('Mean MFCC Distance: {}'.format(mfcc_dist/test_len))\n",
    "print('Mean loudness l2 Distance: {}'.format(loudness_l2/test_len))\n",
    "print('Mean MS spectral loss: {}'.format(msstft/test_len))"
   ]
  },
  {
   "cell_type": "markdown",
   "id": "624611c9-6591-468d-b7a6-a44797d39357",
   "metadata": {},
   "source": [
    "### Synth Tab Acoustic"
   ]
  },
  {
   "cell_type": "code",
   "execution_count": null,
   "id": "538723b5-b103-4834-9599-94026e667fb2",
   "metadata": {},
   "outputs": [],
   "source": [
    "st_electric_baseline_dir = 'Data/synthtab_electric/eval_fad'\n",
    "\n",
    "st_acoustic_dir = 'Data/synthtab_acoustic/audio'\n",
    "st_acoustic_test_dir = 'Data/synthtab_acoustic/test'\n",
    "\n",
    "split = train_test_split(st_acoustic_dir, train_pct=.8, valid_pct=.1)\n",
    "\n",
    "test_files = split['test']\n",
    "\n",
    "st_acoustic_test_ds = GttDataset(audio_dir = st_acoustic_dir,\n",
    "                          midi_dir = '',\n",
    "                          file_list = test_files, \n",
    "                          trim_duration = 10,\n",
    "                          segment_length_seconds=4,\n",
    "                          max_n_pitch=30,\n",
    "                          random_crop=False,\n",
    "                          permute_pitch=False,\n",
    "                          loud_mean = loudness_metrics['mean'],\n",
    "                          loud_std = loudness_metrics['std'],\n",
    "                          device=device)\n",
    "\n",
    "st_acoustic_test_dl = DataLoader(st_acoustic_test_ds, 3, shuffle=False)\n",
    "\n",
    "\n",
    "test_model(model = st_electric_model, \n",
    "           test_loader = st_acoustic_test_dl, \n",
    "           calc_fad=True, \n",
    "           baseline_dir=st_electric_baseline_dir,\n",
    "           test_dir=st_acoustic_test_dir)"
   ]
  },
  {
   "cell_type": "code",
   "execution_count": null,
   "id": "9dfb3142-ec70-458c-971d-1f1528a51eac",
   "metadata": {},
   "outputs": [],
   "source": []
  },
  {
   "cell_type": "markdown",
   "id": "1fe57810-7152-43bf-a276-21f03b44063c",
   "metadata": {
    "jp-MarkdownHeadingCollapsed": true,
    "tags": []
   },
   "source": [
    "# Guitarset Harmonic"
   ]
  },
  {
   "cell_type": "markdown",
   "id": "3fe7c662-ca0c-41ca-a0ed-ab9a89401c49",
   "metadata": {},
   "source": [
    "Additional experiment testing only harmonic synthesis"
   ]
  },
  {
   "cell_type": "code",
   "execution_count": null,
   "id": "a5bcae21-71ad-40ad-aa8c-8813b571c56e",
   "metadata": {
    "tags": []
   },
   "outputs": [],
   "source": [
    "gs_dir = 'Data/GuitarSet/audio_pickup'\n",
    "\n",
    "split = train_test_split(gs_dir, train_pct=.8, valid_pct=.1)\n",
    "\n",
    "train_files = split['train']\n",
    "valid_files = split['valid']\n",
    "test_files = split['test']\n",
    "\n",
    "loudness_metrics = get_mean_std_loudness(gs_dir, train_files)\n",
    "\n",
    "\n",
    "gs_hrg_train_ds = GttDataset(audio_dir = gs_dir,\n",
    "                             midi_dir = 'Data/GuitarSet/hr_labels',\n",
    "                             file_list = train_files, \n",
    "                             segment_length_seconds=4,\n",
    "                             synth_unit_frames = 90,\n",
    "                             max_n_pitch=30,\n",
    "                             loud_mean = loudness_metrics['mean'],\n",
    "                             loud_std = loudness_metrics['std'],\n",
    "                             device=device)\n",
    "\n",
    "gs_hrg_valid_ds = GttDataset(audio_dir = gs_dir,\n",
    "                             midi_dir = 'Data/GuitarSet/hr_labels',\n",
    "                             file_list = valid_files, \n",
    "                             synth_unit_frames = 90,\n",
    "                             segment_length_seconds=4,\n",
    "                             max_n_pitch=30,\n",
    "                             random_crop=False,\n",
    "                             permute_pitch = False,\n",
    "                             loud_mean = loudness_metrics['mean'],\n",
    "                             loud_std = loudness_metrics['std'],\n",
    "                             device=device)\n",
    "\n",
    "gs_hrg_test_ds = GttDataset(audio_dir = gs_dir,\n",
    "                             midi_dir = 'Data/GuitarSet/hr_labels',\n",
    "                             file_list = test_files, \n",
    "                            synth_unit_frames = 90,\n",
    "                             segment_length_seconds=4,\n",
    "                             max_n_pitch=30,\n",
    "                             random_crop=False,\n",
    "                             permute_pitch = False,\n",
    "                             loud_mean = loudness_metrics['mean'],\n",
    "                             loud_std = loudness_metrics['std'],\n",
    "                             device=device)\n",
    "\n",
    "gs_hrg_train_dl = DataLoader(gs_hrg_train_ds, 3, shuffle=True)\n",
    "gs_hrg_valid_dl = DataLoader(gs_hrg_valid_ds, 3, shuffle=False)\n",
    "gs_hrg_test_dl = DataLoader(gs_hrg_test_ds, 3, shuffle=False)\n",
    "\n",
    "\n",
    "gs_hrg_ckpt_dir = 'model_checkpoints/guitarset_hrg'\n",
    "\n",
    "gs_hrg_model = GttNet(device=device,\n",
    "                      input_length_seconds=4,\n",
    "                      hop_length=128,\n",
    "                      synth_unit_frames = 90,\n",
    "                      harmonic_n_controls=101,\n",
    "                      gru_features=512,\n",
    "                      noise_initial_bias=-5.0,\n",
    "                      mlp_blocks=3,\n",
    "                      timbre_enc_size = 15,\n",
    "                      use_timbre_encoder=True,\n",
    "                      use_amp_latent=False,\n",
    "                      gru_cat=True,\n",
    "                      trainable_velocity=False,\n",
    "                      use_reverb=False).to(device)"
   ]
  },
  {
   "cell_type": "code",
   "execution_count": null,
   "id": "ea6c30d1-825e-44e1-bc03-daed48249cf3",
   "metadata": {
    "tags": []
   },
   "outputs": [],
   "source": [
    "start_time = time.time()\n",
    "\n",
    "train_loop(model = gs_hrg_model, \n",
    "            train_loader = gs_hrg_train_dl, \n",
    "            valid_loader = gs_hrg_valid_dl, \n",
    "            epochs=40200,\n",
    "            valid_freq=10,\n",
    "            ckpt_dir=gs_hrg_ckpt_dir,\n",
    "            loud_epoch_freq=10,\n",
    "            train_hours=8,\n",
    "            loud_batch=False)\n",
    "\n",
    "end_time = time.time()\n",
    "total_time = end_time - start_time\n",
    "\n",
    "print('Run Time: {}'.format(total_time))"
   ]
  },
  {
   "cell_type": "code",
   "execution_count": null,
   "id": "163ad0b2-eebe-4af3-b3b5-42fb2bb5329b",
   "metadata": {},
   "outputs": [],
   "source": []
  }
 ],
 "metadata": {
  "kernelspec": {
   "display_name": "Python 3 (ipykernel)",
   "language": "python",
   "name": "python3"
  },
  "language_info": {
   "codemirror_mode": {
    "name": "ipython",
    "version": 3
   },
   "file_extension": ".py",
   "mimetype": "text/x-python",
   "name": "python",
   "nbconvert_exporter": "python",
   "pygments_lexer": "ipython3",
   "version": "3.10.13"
  }
 },
 "nbformat": 4,
 "nbformat_minor": 5
}
